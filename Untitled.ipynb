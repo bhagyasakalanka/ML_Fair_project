{
 "cells": [
  {
   "cell_type": "code",
   "execution_count": 10,
   "metadata": {},
   "outputs": [
    {
     "name": "stdout",
     "output_type": "stream",
     "text": [
      "True\n"
     ]
    }
   ],
   "source": [
    "import pandas as pd\n",
    "import numpy as np\n",
    "from pathlib import Path\n",
    "DATA_PATH = Path.cwd().parent / \"ML project\" \n",
    "train_df = pd.read_csv(\n",
    "    DATA_PATH / \"my_submission.csv\", \n",
    "    index_col=\"tripid\"\n",
    ")\n",
    "\n",
    "train_df_ori = pd.read_csv(\n",
    "    DATA_PATH / \"kfold_merge_bagging_0_1_3_6_8.csv\", \n",
    "    index_col=\"tripid\"\n",
    ")\n",
    "\n",
    "print(train_df_ori.equals(train_df))\n",
    "\n"
   ]
  },
  {
   "cell_type": "code",
   "execution_count": null,
   "metadata": {},
   "outputs": [],
   "source": []
  }
 ],
 "metadata": {
  "kernelspec": {
   "display_name": "Python 3",
   "language": "python",
   "name": "python3"
  },
  "language_info": {
   "codemirror_mode": {
    "name": "ipython",
    "version": 3
   },
   "file_extension": ".py",
   "mimetype": "text/x-python",
   "name": "python",
   "nbconvert_exporter": "python",
   "pygments_lexer": "ipython3",
   "version": "3.7.6"
  }
 },
 "nbformat": 4,
 "nbformat_minor": 4
}
