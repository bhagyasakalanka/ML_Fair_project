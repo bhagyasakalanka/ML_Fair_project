{
 "cells": [
  {
   "cell_type": "code",
   "execution_count": 396,
   "metadata": {},
   "outputs": [],
   "source": [
    "from pathlib import Path\n",
    "\n",
    "import numpy as np\n",
    "import pandas as pd\n",
    "\n",
    "pd.set_option(\"display.max_columns\", 100)\n",
    "\n",
    "DATA_PATH = Path.cwd().parent / \"data_mining_project\" \n",
    "\n",
    "\n",
    "from sklearn.preprocessing import StandardScaler, OneHotEncoder\n",
    "from sklearn.impute import SimpleImputer\n",
    "from sklearn.compose import ColumnTransformer\n",
    "\n",
    "\n",
    "from sklearn.multioutput import MultiOutputClassifier\n",
    "\n",
    "from sklearn.pipeline import Pipeline\n",
    "\n",
    "from sklearn.model_selection import train_test_split\n",
    "\n",
    "from sklearn.metrics import roc_curve, roc_auc_score\n",
    "\n",
    "RANDOM_SEED = 6    # Set a random seed for reproducibility!"
   ]
  },
  {
   "cell_type": "code",
   "execution_count": 397,
   "metadata": {},
   "outputs": [],
   "source": [
    "%matplotlib inline\n",
    "import matplotlib.pyplot as plt\n"
   ]
  },
  {
   "cell_type": "code",
   "execution_count": null,
   "metadata": {},
   "outputs": [],
   "source": []
  },
  {
   "cell_type": "code",
   "execution_count": null,
   "metadata": {},
   "outputs": [],
   "source": []
  },
  {
   "cell_type": "code",
   "execution_count": 703,
   "metadata": {},
   "outputs": [],
   "source": [
    "features_df = pd.read_csv(\n",
    "    DATA_PATH / \"training_set_features.csv\", \n",
    "    index_col=\"respondent_id\"\n",
    ")\n",
    "labels_df = pd.read_csv(\n",
    "    DATA_PATH / \"training_set_labels.csv\", \n",
    "    index_col=\"respondent_id\"\n",
    ")\n",
    "\n",
    "listx = ['h1n1_concern','h1n1_knowledge','doctor_recc_h1n1','doctor_recc_seasonal',\n",
    "      'health_worker','health_insurance','opinion_h1n1_vacc_effective','opinion_h1n1_risk',\n",
    "      'opinion_seas_vacc_effective','opinion_seas_risk']\n",
    "numeric_cols = features_df[listx].columns.values\n",
    "categorical_features = features_df.columns[features_df.dtypes == \"object\"]\n",
    "\n",
    "def removeColumns(npArry, columnNames):\n",
    "    li = list(npArry)\n",
    "    for i in columnNames:\n",
    "        li.remove(i)\n",
    "    return np.array(li)\n",
    "\n",
    "\n",
    "def powerAll(data_frame, exceptList,power):\n",
    "    allColumns = data_frame.columns.values\n",
    "    for i in allColumns:\n",
    "        if(i not in exceptList):\n",
    "            data_frame[i] = data_frame[i]**power\n",
    "            \n",
    "            \n",
    "\n",
    "#exceptList = features_df.columns[features_df.dtypes == \"object\"].values\n",
    "selsctedFeatures = ['opinion_h1n1_vacc_effective','opinion_h1n1_sick_from_vacc']\n",
    "useless_features = ['health_insurance','health_worker','doctor_recc_h1n1','h1n1_concern']\n",
    "testList = ['health_worker','doctor_recc_h1n1']\n",
    "exceptList = features_df.columns.values\n",
    "\n",
    "li = list(exceptList)\n",
    "\n",
    "li = removeColumns(li,[])\n",
    "exceptList = np.array(li)\n",
    "\n",
    "powerAll(features_df, exceptList,1)\n",
    "\n",
    "numeric_preprocessing_steps = Pipeline([\n",
    "    ('standard_scaler', StandardScaler()),\n",
    "    ('simple_imputer', SimpleImputer(strategy='median'))\n",
    "])\n",
    "categorical_transformer = Pipeline(steps=[\n",
    "    ('imputer', SimpleImputer(strategy='constant', fill_value='missing')),\n",
    "    ('onehot', OneHotEncoder(handle_unknown='ignore'))])\n",
    "\n",
    "# create the preprocessor stage of final pipeline\n",
    "# each entry in the transformer list is a tuple of\n",
    "# (name you choose, sklearn transformer, list of columns)\n",
    "preprocessor = ColumnTransformer(\n",
    "    transformers = [\n",
    "        (\"numeric\", numeric_preprocessing_steps, numeric_cols),\n",
    "        ('cat', categorical_transformer, categorical_features)\n",
    "    ],\n",
    "    remainder = \"drop\"\n",
    ")"
   ]
  },
  {
   "cell_type": "code",
   "execution_count": 704,
   "metadata": {},
   "outputs": [],
   "source": [
    "from sklearn.svm import LinearSVC\n",
    "from sklearn.linear_model import LogisticRegression\n",
    "from sklearn.svm import SVC\n",
    "from sklearn.naive_bayes import MultinomialNB\n",
    "from sklearn.tree import DecisionTreeClassifier\n",
    "from sklearn.neighbors import KNeighborsClassifier\n",
    "from sklearn.neighbors import NearestNeighbors\n",
    "from sklearn.neural_network import MLPClassifier\n",
    "from sklearn.ensemble import RandomForestClassifier\n",
    "from sklearn.naive_bayes import GaussianNB\n",
    "from sklearn.ensemble import RandomForestRegressor\n",
    "#estimators = MultiOutputClassifier(\n",
    " #   estimator=MLPClassifier(solver='lbfgs', alpha=.55, hidden_layer_sizes=(4,2 ), random_state=1, max_iter=10000000)\n",
    "#)\n",
    "#estimators = MultiOutputClassifier(\n",
    " #   estimator=SVC(gamma='auto', probability=True),\n",
    "#)\n",
    "estimators =LogisticRegression(penalty=\"l2\", C=1,solver='lbfgs',max_iter=1000000)"
   ]
  },
  {
   "cell_type": "code",
   "execution_count": 705,
   "metadata": {},
   "outputs": [],
   "source": [
    "full_pipeline = Pipeline([\n",
    "    (\"preprocessor\", preprocessor),\n",
    "    (\"estimators\", estimators),\n",
    "])\n",
    "\n",
    "X_train, X_eval, y_train, y_eval = train_test_split(\n",
    "    features_df,\n",
    "    labels_df[\"h1n1_vaccine\"],\n",
    "    test_size=0.33,\n",
    "    shuffle=True,\n",
    "    stratify=labels_df[\"h1n1_vaccine\"],\n",
    "    random_state=6\n",
    ")\n"
   ]
  },
  {
   "cell_type": "code",
   "execution_count": 706,
   "metadata": {},
   "outputs": [
    {
     "name": "stdout",
     "output_type": "stream",
     "text": [
      "Wall time: 795 ms\n"
     ]
    },
    {
     "data": {
      "text/plain": [
       "array([[0.91502235, 0.08497765],\n",
       "       [0.90685555, 0.09314445],\n",
       "       [0.797101  , 0.202899  ],\n",
       "       ...,\n",
       "       [0.87179344, 0.12820656],\n",
       "       [0.73386758, 0.26613242],\n",
       "       [0.69504403, 0.30495597]])"
      ]
     },
     "execution_count": 706,
     "metadata": {},
     "output_type": "execute_result"
    }
   ],
   "source": [
    "%%time\n",
    "\n",
    "# Train model\n",
    "full_pipeline.fit(X_train, y_train)\n",
    "\n",
    "\n",
    "# Predict on evaluation set\n",
    "# This competition wants probabilities, not labels\n",
    "preds = full_pipeline.predict_proba(X_eval)\n",
    "preds\n",
    "\n"
   ]
  },
  {
   "cell_type": "code",
   "execution_count": 707,
   "metadata": {},
   "outputs": [
    {
     "name": "stdout",
     "output_type": "stream",
     "text": [
      "y_preds.shape: (8814, 2)\n"
     ]
    },
    {
     "data": {
      "text/plain": [
       "0.8316203854730742"
      ]
     },
     "execution_count": 707,
     "metadata": {},
     "output_type": "execute_result"
    }
   ],
   "source": [
    "y_preds = pd.DataFrame(\n",
    "    preds,\n",
    "    index = y_eval.index\n",
    ")\n",
    "print(\"y_preds.shape:\", y_preds.shape)\n",
    "y_preds.head()\n",
    "roc_auc_score(y_eval, y_preds[1])"
   ]
  },
  {
   "cell_type": "code",
   "execution_count": null,
   "metadata": {},
   "outputs": [],
   "source": []
  },
  {
   "cell_type": "code",
   "execution_count": 708,
   "metadata": {},
   "outputs": [],
   "source": [
    "def testDef(checklist, removeList, power):\n",
    "    features_df = pd.read_csv(\n",
    "        DATA_PATH / \"training_set_features.csv\", \n",
    "        index_col=\"respondent_id\"\n",
    "    )\n",
    "    labels_df = pd.read_csv(\n",
    "        DATA_PATH / \"training_set_labels.csv\", \n",
    "        index_col=\"respondent_id\"\n",
    "    )\n",
    "\n",
    "\n",
    "    numeric_cols = features_df.columns[features_df.dtypes != \"object\"].values\n",
    "    categorical_features = features_df.columns[features_df.dtypes == \"object\"]\n",
    "    \n",
    "    exceptList = features_df.columns.values\n",
    "    li = list(exceptList)\n",
    "    li = removeColumn(li,checklist)\n",
    "    exceptList = np.array(li)\n",
    "\n",
    "    numeric_cols = removeColumns(numeric_cols,removeList)\n",
    "    powerAll(features_df, exceptList,power)\n",
    "\n",
    "    numeric_preprocessing_steps = Pipeline([\n",
    "        ('standard_scaler', StandardScaler()),\n",
    "        ('simple_imputer', SimpleImputer(strategy='median'))\n",
    "    ])\n",
    "    categorical_transformer = Pipeline(steps=[\n",
    "        ('imputer', SimpleImputer(strategy='constant', fill_value='missing')),\n",
    "        ('onehot', OneHotEncoder(handle_unknown='ignore'))])\n",
    "\n",
    "    # create the preprocessor stage of final pipeline\n",
    "    # each entry in the transformer list is a tuple of\n",
    "    # (name you choose, sklearn transformer, list of columns)\n",
    "    preprocessor = ColumnTransformer(\n",
    "        transformers = [\n",
    "            (\"numeric\", numeric_preprocessing_steps, numeric_cols),\n",
    "            ('cat', categorical_transformer, categorical_features)\n",
    "        ],\n",
    "        remainder = \"drop\"\n",
    "    )\n",
    "    estimators =LogisticRegression(penalty=\"l2\", C=1,solver='lbfgs',max_iter=1000000)\n",
    "\n",
    "    full_pipeline = Pipeline([\n",
    "    (\"preprocessor\", preprocessor),\n",
    "    (\"estimators\", estimators),\n",
    "    ])\n",
    "\n",
    "    X_train, X_eval, y_train, y_eval = train_test_split(\n",
    "        features_df,\n",
    "        labels_df[\"h1n1_vaccine\"],\n",
    "        test_size=0.33,\n",
    "        shuffle=True,\n",
    "        stratify=labels_df[\"h1n1_vaccine\"],\n",
    "        random_state=6\n",
    "    )\n",
    "    full_pipeline.fit(X_train, y_train)\n",
    "\n",
    "\n",
    "    # Predict on evaluation set\n",
    "    # This competition wants probabilities, not labels\n",
    "    preds = full_pipeline.predict_proba(X_eval)\n",
    "    y_preds = pd.DataFrame(\n",
    "        preds,\n",
    "        index = y_eval.index\n",
    "    )\n",
    "    value = roc_auc_score(y_eval, y_preds[1])\n",
    "    \n",
    "    return value>0.8333303206270715,value\n",
    "        "
   ]
  },
  {
   "cell_type": "code",
   "execution_count": null,
   "metadata": {},
   "outputs": [],
   "source": []
  },
  {
   "cell_type": "code",
   "execution_count": 663,
   "metadata": {},
   "outputs": [
    {
     "name": "stdout",
     "output_type": "stream",
     "text": [
      "y_preds.shape: (8814, 2)\n"
     ]
    },
    {
     "data": {
      "text/html": [
       "<div>\n",
       "<style scoped>\n",
       "    .dataframe tbody tr th:only-of-type {\n",
       "        vertical-align: middle;\n",
       "    }\n",
       "\n",
       "    .dataframe tbody tr th {\n",
       "        vertical-align: top;\n",
       "    }\n",
       "\n",
       "    .dataframe thead th {\n",
       "        text-align: right;\n",
       "    }\n",
       "</style>\n",
       "<table border=\"1\" class=\"dataframe\">\n",
       "  <thead>\n",
       "    <tr style=\"text-align: right;\">\n",
       "      <th></th>\n",
       "      <th>0</th>\n",
       "      <th>1</th>\n",
       "    </tr>\n",
       "    <tr>\n",
       "      <th>respondent_id</th>\n",
       "      <th></th>\n",
       "      <th></th>\n",
       "    </tr>\n",
       "  </thead>\n",
       "  <tbody>\n",
       "    <tr>\n",
       "      <th>6071</th>\n",
       "      <td>0.932256</td>\n",
       "      <td>0.067744</td>\n",
       "    </tr>\n",
       "    <tr>\n",
       "      <th>13720</th>\n",
       "      <td>0.917414</td>\n",
       "      <td>0.082586</td>\n",
       "    </tr>\n",
       "    <tr>\n",
       "      <th>6496</th>\n",
       "      <td>0.832767</td>\n",
       "      <td>0.167233</td>\n",
       "    </tr>\n",
       "    <tr>\n",
       "      <th>13266</th>\n",
       "      <td>0.895359</td>\n",
       "      <td>0.104641</td>\n",
       "    </tr>\n",
       "    <tr>\n",
       "      <th>3870</th>\n",
       "      <td>0.561555</td>\n",
       "      <td>0.438445</td>\n",
       "    </tr>\n",
       "  </tbody>\n",
       "</table>\n",
       "</div>"
      ],
      "text/plain": [
       "                      0         1\n",
       "respondent_id                    \n",
       "6071           0.932256  0.067744\n",
       "13720          0.917414  0.082586\n",
       "6496           0.832767  0.167233\n",
       "13266          0.895359  0.104641\n",
       "3870           0.561555  0.438445"
      ]
     },
     "execution_count": 663,
     "metadata": {},
     "output_type": "execute_result"
    }
   ],
   "source": [
    "y_preds = pd.DataFrame(\n",
    "    preds,\n",
    "    index = y_eval.index\n",
    ")\n",
    "print(\"y_preds.shape:\", y_preds.shape)\n",
    "y_preds.head()\n",
    "roc_auc_score(y_eval, y_preds[1])"
   ]
  },
  {
   "cell_type": "code",
   "execution_count": 664,
   "metadata": {},
   "outputs": [],
   "source": [
    "def plot_roc(y_true, y_score, label_name, ax):\n",
    "    fpr, tpr, thresholds = roc_curve(y_true, y_score)\n",
    "    ax.plot(fpr, tpr)\n",
    "    ax.plot([0, 1], [0, 1], color='grey', linestyle='--')\n",
    "    ax.set_ylabel('TPR')\n",
    "    ax.set_xlabel('FPR')\n",
    "    ax.set_title(\n",
    "        f\"{label_name}: AUC = {roc_auc_score(y_true, y_score):.4f}\"\n",
    "    )"
   ]
  },
  {
   "cell_type": "code",
   "execution_count": 665,
   "metadata": {},
   "outputs": [
    {
     "data": {
      "image/png": "[encoded data removed]",
      "text/plain": [
       "<Figure size 504x252 with 2 Axes>"
      ]
     },
     "metadata": {
      "needs_background": "light"
     },
     "output_type": "display_data"
    }
   ],
   "source": [
    "fig, ax = plt.subplots(1, 2, figsize=(7, 3.5))\n",
    "\n",
    "plot_roc(\n",
    "    y_eval, \n",
    "    y_preds[1], \n",
    "    'h1n1_vaccine',\n",
    "    ax=ax[0]\n",
    ")\n",
    "\n",
    "fig.tight_layout()"
   ]
  },
  {
   "cell_type": "code",
   "execution_count": 666,
   "metadata": {},
   "outputs": [
    {
     "data": {
      "text/plain": [
       "0.8347514205807425"
      ]
     },
     "execution_count": 666,
     "metadata": {},
     "output_type": "execute_result"
    }
   ],
   "source": [
    "roc_auc_score(y_eval, y_preds[1])"
   ]
  },
  {
   "cell_type": "code",
   "execution_count": 640,
   "metadata": {},
   "outputs": [
    {
     "name": "stdout",
     "output_type": "stream",
     "text": [
      "h1n1_concern False 0.8332703998225299\n",
      "h1n1_knowledge True 0.8333344743157048\n",
      "behavioral_antiviral_meds True 0.8333367819205011\n",
      "behavioral_avoidance True 0.8333367819205011\n",
      "behavioral_face_mask True 0.8333367819205011\n",
      "behavioral_wash_hands True 0.8333367819205011\n",
      "behavioral_large_gatherings True 0.8333367819205011\n",
      "behavioral_outside_home True 0.8333367819205011\n",
      "behavioral_touch_face True 0.8333367819205011\n",
      "doctor_recc_h1n1 True 0.8333367819205011\n",
      "doctor_recc_seasonal True 0.8333367819205011\n",
      "chronic_med_condition True 0.8333367819205011\n",
      "child_under_6_months True 0.8333367819205011\n",
      "health_worker True 0.8333367819205011\n",
      "health_insurance True 0.8333367819205011\n",
      "opinion_h1n1_vacc_effective True 0.8347514205807425\n",
      "opinion_h1n1_risk False 0.8304343535279778\n",
      "opinion_h1n1_sick_from_vacc True 0.8333367819205011\n",
      "opinion_seas_vacc_effective True 0.8333309359883506\n",
      "opinion_seas_risk False 0.8328851067417213\n",
      "opinion_seas_sick_from_vacc False 0.8331048676384811\n",
      "household_adults False 0.8333232439723631\n",
      "household_children True 0.8334723921623586\n"
     ]
    }
   ],
   "source": [
    "numeric_cols_test = features_df.columns[features_df.dtypes != \"object\"].values\n",
    "finalList = []\n",
    "removeList = ['behavioral_avoidance','behavioral_outside_home','behavioral_touch_face',\n",
    "              'opinion_h1n1_sick_from_vacc','child_under_6_months']\n",
    "power = 3.5\n",
    "for i in numeric_cols_test:\n",
    "    testbool, value = testDef([i], removeList, power)\n",
    "    print(i,testbool, value)\n",
    "    "
   ]
  },
  {
   "cell_type": "code",
   "execution_count": null,
   "metadata": {},
   "outputs": [],
   "source": []
  },
  {
   "cell_type": "code",
   "execution_count": 444,
   "metadata": {},
   "outputs": [
    {
     "name": "stdout",
     "output_type": "stream",
     "text": [
      "Wall time: 2.63 s\n"
     ]
    }
   ],
   "source": [
    "%%time \n",
    "\n",
    "full_pipeline.fit(features_df, labels_df[\"h1n1_vaccine\"])\n",
    "\n",
    "None"
   ]
  },
  {
   "cell_type": "code",
   "execution_count": 407,
   "metadata": {},
   "outputs": [],
   "source": [
    "test_features_df = pd.read_csv(DATA_PATH / \"test_set_features.csv\", \n",
    "                               index_col=\"respondent_id\")\n",
    "numeric_cols = removeColumns(numeric_cols,[])\n",
    "powerAll(test_features_df, exceptList,3.5)\n",
    "\n"
   ]
  },
  {
   "cell_type": "code",
   "execution_count": 408,
   "metadata": {},
   "outputs": [
    {
     "data": {
      "text/plain": [
       "array([[0.94314896, 0.05685104],\n",
       "       [0.95013986, 0.04986014],\n",
       "       [0.58699136, 0.41300864],\n",
       "       ...,\n",
       "       [0.86582939, 0.13417061],\n",
       "       [0.94105836, 0.05894164],\n",
       "       [0.53171558, 0.46828442]])"
      ]
     },
     "execution_count": 408,
     "metadata": {},
     "output_type": "execute_result"
    }
   ],
   "source": [
    "test_probas = full_pipeline.predict_proba(test_features_df)\n",
    "\n",
    "test_probas"
   ]
  },
  {
   "cell_type": "code",
   "execution_count": 346,
   "metadata": {},
   "outputs": [],
   "source": [
    "test_preds = pd.DataFrame(\n",
    "    test_probas,\n",
    "    index = test_features_df.index\n",
    ")"
   ]
  },
  {
   "cell_type": "code",
   "execution_count": 249,
   "metadata": {},
   "outputs": [],
   "source": [
    "submission_df = pd.read_csv(DATA_PATH / \"my_submission.csv\", \n",
    "                            index_col=\"respondent_id\")"
   ]
  },
  {
   "cell_type": "code",
   "execution_count": 250,
   "metadata": {},
   "outputs": [
    {
     "data": {
      "text/html": [
       "<div>\n",
       "<style scoped>\n",
       "    .dataframe tbody tr th:only-of-type {\n",
       "        vertical-align: middle;\n",
       "    }\n",
       "\n",
       "    .dataframe tbody tr th {\n",
       "        vertical-align: top;\n",
       "    }\n",
       "\n",
       "    .dataframe thead th {\n",
       "        text-align: right;\n",
       "    }\n",
       "</style>\n",
       "<table border=\"1\" class=\"dataframe\">\n",
       "  <thead>\n",
       "    <tr style=\"text-align: right;\">\n",
       "      <th></th>\n",
       "      <th>h1n1_vaccine</th>\n",
       "      <th>seasonal_vaccine</th>\n",
       "    </tr>\n",
       "    <tr>\n",
       "      <th>respondent_id</th>\n",
       "      <th></th>\n",
       "      <th></th>\n",
       "    </tr>\n",
       "  </thead>\n",
       "  <tbody>\n",
       "    <tr>\n",
       "      <th>26707</th>\n",
       "      <td>0.057232</td>\n",
       "      <td>0.295211</td>\n",
       "    </tr>\n",
       "    <tr>\n",
       "      <th>26708</th>\n",
       "      <td>0.047315</td>\n",
       "      <td>0.045512</td>\n",
       "    </tr>\n",
       "    <tr>\n",
       "      <th>26709</th>\n",
       "      <td>0.415911</td>\n",
       "      <td>0.592858</td>\n",
       "    </tr>\n",
       "    <tr>\n",
       "      <th>26710</th>\n",
       "      <td>0.486395</td>\n",
       "      <td>0.877657</td>\n",
       "    </tr>\n",
       "    <tr>\n",
       "      <th>26711</th>\n",
       "      <td>0.157685</td>\n",
       "      <td>0.473843</td>\n",
       "    </tr>\n",
       "  </tbody>\n",
       "</table>\n",
       "</div>"
      ],
      "text/plain": [
       "               h1n1_vaccine  seasonal_vaccine\n",
       "respondent_id                                \n",
       "26707              0.057232          0.295211\n",
       "26708              0.047315          0.045512\n",
       "26709              0.415911          0.592858\n",
       "26710              0.486395          0.877657\n",
       "26711              0.157685          0.473843"
      ]
     },
     "execution_count": 250,
     "metadata": {},
     "output_type": "execute_result"
    }
   ],
   "source": [
    "submission_df.head()"
   ]
  },
  {
   "cell_type": "code",
   "execution_count": 251,
   "metadata": {},
   "outputs": [
    {
     "data": {
      "text/html": [
       "<div>\n",
       "<style scoped>\n",
       "    .dataframe tbody tr th:only-of-type {\n",
       "        vertical-align: middle;\n",
       "    }\n",
       "\n",
       "    .dataframe tbody tr th {\n",
       "        vertical-align: top;\n",
       "    }\n",
       "\n",
       "    .dataframe thead th {\n",
       "        text-align: right;\n",
       "    }\n",
       "</style>\n",
       "<table border=\"1\" class=\"dataframe\">\n",
       "  <thead>\n",
       "    <tr style=\"text-align: right;\">\n",
       "      <th></th>\n",
       "      <th>h1n1_vaccine</th>\n",
       "      <th>seasonal_vaccine</th>\n",
       "    </tr>\n",
       "    <tr>\n",
       "      <th>respondent_id</th>\n",
       "      <th></th>\n",
       "      <th></th>\n",
       "    </tr>\n",
       "  </thead>\n",
       "  <tbody>\n",
       "    <tr>\n",
       "      <th>26707</th>\n",
       "      <td>0.062595</td>\n",
       "      <td>0.295211</td>\n",
       "    </tr>\n",
       "    <tr>\n",
       "      <th>26708</th>\n",
       "      <td>0.040573</td>\n",
       "      <td>0.045512</td>\n",
       "    </tr>\n",
       "    <tr>\n",
       "      <th>26709</th>\n",
       "      <td>0.436645</td>\n",
       "      <td>0.592858</td>\n",
       "    </tr>\n",
       "    <tr>\n",
       "      <th>26710</th>\n",
       "      <td>0.451501</td>\n",
       "      <td>0.877657</td>\n",
       "    </tr>\n",
       "    <tr>\n",
       "      <th>26711</th>\n",
       "      <td>0.173451</td>\n",
       "      <td>0.473843</td>\n",
       "    </tr>\n",
       "  </tbody>\n",
       "</table>\n",
       "</div>"
      ],
      "text/plain": [
       "               h1n1_vaccine  seasonal_vaccine\n",
       "respondent_id                                \n",
       "26707              0.062595          0.295211\n",
       "26708              0.040573          0.045512\n",
       "26709              0.436645          0.592858\n",
       "26710              0.451501          0.877657\n",
       "26711              0.173451          0.473843"
      ]
     },
     "execution_count": 251,
     "metadata": {},
     "output_type": "execute_result"
    }
   ],
   "source": [
    "# Make sure we have the rows in the same order\n",
    "np.testing.assert_array_equal(test_features_df.index.values, \n",
    "                              submission_df.index.values)\n",
    "\n",
    "# Save predictions to submission data frame\n",
    "submission_df[\"h1n1_vaccine\"] = test_preds[1]\n",
    "\n",
    "submission_df.head()"
   ]
  },
  {
   "cell_type": "code",
   "execution_count": 252,
   "metadata": {},
   "outputs": [],
   "source": [
    "submission_df.to_csv(DATA_PATH / 'my_submission.csv', index=True)"
   ]
  },
  {
   "cell_type": "code",
   "execution_count": null,
   "metadata": {},
   "outputs": [],
   "source": []
  },
  {
   "cell_type": "code",
   "execution_count": null,
   "metadata": {},
   "outputs": [],
   "source": []
  }
 ],
 "metadata": {
  "kernelspec": {
   "display_name": "Python 3",
   "language": "python",
   "name": "python3"
  },
  "language_info": {
   "codemirror_mode": {
    "name": "ipython",
    "version": 3
   },
   "file_extension": ".py",
   "mimetype": "text/x-python",
   "name": "python",
   "nbconvert_exporter": "python",
   "pygments_lexer": "ipython3",
   "version": "3.7.6"
  }
 },
 "nbformat": 4,
 "nbformat_minor": 4
}
